{
 "cells": [
  {
   "cell_type": "markdown",
   "metadata": {},
   "source": [
    "# Background\n",
    "\n",
    "This notebook accompanies the medium article **Making Your Loss Function Count**.\n",
    "\n",
    "The code within highlights how to use a custom loss function in Tensorflow in a hypothetical scenario, in which you  work for a leisure centre where customers can sign up for different price tiers each month, and your job is to predict whether they will trade up, trade down, or remain at the same price tier in the next month."
   ]
  },
  {
   "cell_type": "markdown",
   "metadata": {},
   "source": [
    "### Gym price plans"
   ]
  },
  {
   "cell_type": "markdown",
   "metadata": {},
   "source": [
    "![title](Gym_Price_Plans.png)"
   ]
  },
  {
   "cell_type": "markdown",
   "metadata": {},
   "source": [
    "# Import libraries"
   ]
  },
  {
   "cell_type": "code",
   "execution_count": 1,
   "metadata": {},
   "outputs": [],
   "source": [
    "import matplotlib.pyplot as plt\n",
    "import numpy as np\n",
    "import os\n",
    "import pandas as pd\n",
    "import seaborn as sns\n",
    "from sklearn import metrics, model_selection, preprocessing\n",
    "import tensorflow as tf\n",
    "from tensorflow.keras import losses\n",
    "from tensorflow.keras import utils as keras_utils\n",
    "from tensorflow.keras.layers import Input, Dense, Dropout\n",
    "from tensorflow.keras.models import Model, Sequential\n",
    "from typing import Tuple"
   ]
  },
  {
   "cell_type": "markdown",
   "metadata": {},
   "source": [
    "# Create dummy data"
   ]
  },
  {
   "cell_type": "code",
   "execution_count": 2,
   "metadata": {},
   "outputs": [],
   "source": [
    "number_of_observations_per_class = 10000"
   ]
  },
  {
   "cell_type": "markdown",
   "metadata": {},
   "source": [
    "#### Customers who trade down (assumed to be on their current plan for less time and not using the gym as often)"
   ]
  },
  {
   "cell_type": "code",
   "execution_count": 3,
   "metadata": {},
   "outputs": [],
   "source": [
    "dict_trade_down = {\n",
    "    'Shift_In_Visits_Vs_Last_Month': np.random.uniform(low=0.7, high=1.1, size=number_of_observations_per_class),\n",
    "    'Months_On_Price_Tier': np.random.randint(low=0, high=3, size=number_of_observations_per_class),\n",
    "    'Class': np.repeat(a='Down', repeats=number_of_observations_per_class)\n",
    "}\n",
    "\n",
    "df_trade_down = pd.DataFrame(data=dict_trade_down)"
   ]
  },
  {
   "cell_type": "markdown",
   "metadata": {},
   "source": [
    "#### Customers who remain stable (assumed to be on their current plan for a longer period of time, and using the gym a consistent amount)"
   ]
  },
  {
   "cell_type": "code",
   "execution_count": 4,
   "metadata": {},
   "outputs": [],
   "source": [
    "dict_stable = {\n",
    "    'Shift_In_Visits_Vs_Last_Month': np.random.uniform(low=0.7, high=1.15, size=number_of_observations_per_class),\n",
    "    'Months_On_Price_Tier': np.random.randint(low=0, high=5, size=number_of_observations_per_class),\n",
    "    'Class': np.repeat(a='Stable', repeats=number_of_observations_per_class)\n",
    "}\n",
    "\n",
    "df_stable = pd.DataFrame(data=dict_stable)"
   ]
  },
  {
   "cell_type": "markdown",
   "metadata": {},
   "source": [
    "#### Customers who trade up (assumed to be on their current plan for less time and are using the gym more often)\n",
    "\n"
   ]
  },
  {
   "cell_type": "code",
   "execution_count": 5,
   "metadata": {},
   "outputs": [],
   "source": [
    "dict_trade_up = {\n",
    "    'Shift_In_Visits_Vs_Last_Month': np.random.uniform(low=0.7, high=1.2, size=number_of_observations_per_class),\n",
    "    'Months_On_Price_Tier': np.random.randint(low=0, high=3, size=number_of_observations_per_class),\n",
    "    'Class': np.repeat(a='Up', repeats=number_of_observations_per_class)\n",
    "}\n",
    "\n",
    "df_trade_up = pd.DataFrame(data=dict_trade_up)"
   ]
  },
  {
   "cell_type": "markdown",
   "metadata": {},
   "source": [
    "# Concatenate into one single dataframe and randomly shuffle"
   ]
  },
  {
   "cell_type": "code",
   "execution_count": 6,
   "metadata": {
    "scrolled": true
   },
   "outputs": [
    {
     "data": {
      "text/html": [
       "<div>\n",
       "<style scoped>\n",
       "    .dataframe tbody tr th:only-of-type {\n",
       "        vertical-align: middle;\n",
       "    }\n",
       "\n",
       "    .dataframe tbody tr th {\n",
       "        vertical-align: top;\n",
       "    }\n",
       "\n",
       "    .dataframe thead th {\n",
       "        text-align: right;\n",
       "    }\n",
       "</style>\n",
       "<table border=\"1\" class=\"dataframe\">\n",
       "  <thead>\n",
       "    <tr style=\"text-align: right;\">\n",
       "      <th></th>\n",
       "      <th>Shift_In_Visits_Vs_Last_Month</th>\n",
       "      <th>Months_On_Price_Tier</th>\n",
       "      <th>Class</th>\n",
       "    </tr>\n",
       "  </thead>\n",
       "  <tbody>\n",
       "    <tr>\n",
       "      <th>5617</th>\n",
       "      <td>0.898855</td>\n",
       "      <td>1</td>\n",
       "      <td>Down</td>\n",
       "    </tr>\n",
       "    <tr>\n",
       "      <th>3959</th>\n",
       "      <td>0.964413</td>\n",
       "      <td>2</td>\n",
       "      <td>Up</td>\n",
       "    </tr>\n",
       "    <tr>\n",
       "      <th>9474</th>\n",
       "      <td>0.855965</td>\n",
       "      <td>4</td>\n",
       "      <td>Stable</td>\n",
       "    </tr>\n",
       "    <tr>\n",
       "      <th>1235</th>\n",
       "      <td>0.911720</td>\n",
       "      <td>0</td>\n",
       "      <td>Stable</td>\n",
       "    </tr>\n",
       "    <tr>\n",
       "      <th>9490</th>\n",
       "      <td>0.732828</td>\n",
       "      <td>0</td>\n",
       "      <td>Down</td>\n",
       "    </tr>\n",
       "  </tbody>\n",
       "</table>\n",
       "</div>"
      ],
      "text/plain": [
       "      Shift_In_Visits_Vs_Last_Month  Months_On_Price_Tier   Class\n",
       "5617                       0.898855                     1    Down\n",
       "3959                       0.964413                     2      Up\n",
       "9474                       0.855965                     4  Stable\n",
       "1235                       0.911720                     0  Stable\n",
       "9490                       0.732828                     0    Down"
      ]
     },
     "execution_count": 6,
     "metadata": {},
     "output_type": "execute_result"
    }
   ],
   "source": [
    "df_all = pd.concat([df_trade_down, df_stable, df_trade_up]).sample(frac=1)\n",
    "\n",
    "df_all.head()"
   ]
  },
  {
   "cell_type": "markdown",
   "metadata": {},
   "source": [
    "# Represent class labels as integers"
   ]
  },
  {
   "cell_type": "code",
   "execution_count": 7,
   "metadata": {},
   "outputs": [
    {
     "name": "stdout",
     "output_type": "stream",
     "text": [
      "Label mapping: \n",
      "{'Down': 0, 'Stable': 1, 'Up': 2}\n"
     ]
    },
    {
     "data": {
      "text/html": [
       "<div>\n",
       "<style scoped>\n",
       "    .dataframe tbody tr th:only-of-type {\n",
       "        vertical-align: middle;\n",
       "    }\n",
       "\n",
       "    .dataframe tbody tr th {\n",
       "        vertical-align: top;\n",
       "    }\n",
       "\n",
       "    .dataframe thead th {\n",
       "        text-align: right;\n",
       "    }\n",
       "</style>\n",
       "<table border=\"1\" class=\"dataframe\">\n",
       "  <thead>\n",
       "    <tr style=\"text-align: right;\">\n",
       "      <th></th>\n",
       "      <th>Class</th>\n",
       "      <th>Class_Integer</th>\n",
       "    </tr>\n",
       "  </thead>\n",
       "  <tbody>\n",
       "    <tr>\n",
       "      <th>5617</th>\n",
       "      <td>Down</td>\n",
       "      <td>0</td>\n",
       "    </tr>\n",
       "    <tr>\n",
       "      <th>3959</th>\n",
       "      <td>Up</td>\n",
       "      <td>2</td>\n",
       "    </tr>\n",
       "    <tr>\n",
       "      <th>9474</th>\n",
       "      <td>Stable</td>\n",
       "      <td>1</td>\n",
       "    </tr>\n",
       "    <tr>\n",
       "      <th>1235</th>\n",
       "      <td>Stable</td>\n",
       "      <td>1</td>\n",
       "    </tr>\n",
       "    <tr>\n",
       "      <th>9490</th>\n",
       "      <td>Down</td>\n",
       "      <td>0</td>\n",
       "    </tr>\n",
       "    <tr>\n",
       "      <th>6804</th>\n",
       "      <td>Stable</td>\n",
       "      <td>1</td>\n",
       "    </tr>\n",
       "    <tr>\n",
       "      <th>375</th>\n",
       "      <td>Down</td>\n",
       "      <td>0</td>\n",
       "    </tr>\n",
       "    <tr>\n",
       "      <th>8935</th>\n",
       "      <td>Up</td>\n",
       "      <td>2</td>\n",
       "    </tr>\n",
       "    <tr>\n",
       "      <th>2345</th>\n",
       "      <td>Stable</td>\n",
       "      <td>1</td>\n",
       "    </tr>\n",
       "    <tr>\n",
       "      <th>7742</th>\n",
       "      <td>Down</td>\n",
       "      <td>0</td>\n",
       "    </tr>\n",
       "  </tbody>\n",
       "</table>\n",
       "</div>"
      ],
      "text/plain": [
       "       Class  Class_Integer\n",
       "5617    Down              0\n",
       "3959      Up              2\n",
       "9474  Stable              1\n",
       "1235  Stable              1\n",
       "9490    Down              0\n",
       "6804  Stable              1\n",
       "375     Down              0\n",
       "8935      Up              2\n",
       "2345  Stable              1\n",
       "7742    Down              0"
      ]
     },
     "execution_count": 7,
     "metadata": {},
     "output_type": "execute_result"
    }
   ],
   "source": [
    "label_encoder = preprocessing.LabelEncoder()\n",
    "label_encoder = label_encoder.fit(df_all['Class'])\n",
    "\n",
    "print('Label mapping: ')\n",
    "label_mapping = dict(zip(label_encoder.classes_, range(len(label_encoder.classes_))))\n",
    "print(label_mapping)\n",
    "\n",
    "# Transform the original datasets\n",
    "df_all['Class_Integer'] = label_encoder.transform(df_all['Class'])\n",
    "\n",
    "df_all[['Class', 'Class_Integer']].head(10)"
   ]
  },
  {
   "cell_type": "markdown",
   "metadata": {},
   "source": [
    "# Split into training and validation dataset\n",
    "No test dataset is taken in this demo for simplicity"
   ]
  },
  {
   "cell_type": "code",
   "execution_count": 8,
   "metadata": {},
   "outputs": [],
   "source": [
    "features = df_all.loc[:, ['Shift_In_Visits_Vs_Last_Month', 'Months_On_Price_Tier']]\n",
    "labels = df_all.loc[:, 'Class_Integer']\n",
    "\n",
    "X_train, X_validation, y_train, y_validation = model_selection.train_test_split(features, labels, test_size=0.2)\n",
    "\n",
    "y_train_encoded = keras_utils.to_categorical(y_train, num_classes=3)\n",
    "y_validation_encoded = keras_utils.to_categorical(y_validation, num_classes=3)"
   ]
  },
  {
   "cell_type": "markdown",
   "metadata": {},
   "source": [
    "# Make note of how damaging each prediction vs reality would be for the business"
   ]
  },
  {
   "cell_type": "markdown",
   "metadata": {},
   "source": [
    "![title](Prediction_Risk.png)"
   ]
  },
  {
   "cell_type": "code",
   "execution_count": 9,
   "metadata": {},
   "outputs": [],
   "source": [
    "scenario_risk = {}"
   ]
  },
  {
   "cell_type": "markdown",
   "metadata": {},
   "source": [
    "#### If prediction matches reality... it is good news so assign a standard weight of 1"
   ]
  },
  {
   "cell_type": "code",
   "execution_count": 10,
   "metadata": {},
   "outputs": [],
   "source": [
    "scenario_risk['prediction_matches_reality'] = 1.0"
   ]
  },
  {
   "cell_type": "markdown",
   "metadata": {},
   "source": [
    "#### If customer trades down (0) but we predicted stable (1), or if customer stays stable (1) but we predicted up (2)... it is bad news as we made less revenue than expected"
   ]
  },
  {
   "cell_type": "code",
   "execution_count": 11,
   "metadata": {},
   "outputs": [],
   "source": [
    "scenario_risk['less_spend_than_expected'] = 3.0"
   ]
  },
  {
   "cell_type": "markdown",
   "metadata": {},
   "source": [
    "#### If customer trades down (0) but we predicted up (2)... it is REALLY bad news as we made a lot less revenue than expected"
   ]
  },
  {
   "cell_type": "code",
   "execution_count": 12,
   "metadata": {},
   "outputs": [],
   "source": [
    "scenario_risk['much_less_spend_than_expected'] = 9.0"
   ]
  },
  {
   "cell_type": "markdown",
   "metadata": {},
   "source": [
    "#### If customer is stable (1) but we predicted down (0), or if customer trades up (2) but we predicted stable (1)... it is not such bad news as we made more revenue than expected"
   ]
  },
  {
   "cell_type": "code",
   "execution_count": 13,
   "metadata": {},
   "outputs": [],
   "source": [
    "scenario_risk['more_spend_than_expected'] = 1.25"
   ]
  },
  {
   "cell_type": "markdown",
   "metadata": {},
   "source": [
    "#### If customer trades up (2) but we predicted down (0)... it is definitely not such bad news as we made a lot more revenue than expected"
   ]
  },
  {
   "cell_type": "code",
   "execution_count": 14,
   "metadata": {},
   "outputs": [],
   "source": [
    "scenario_risk['much_more_spend_than_expected'] = 1.05"
   ]
  },
  {
   "cell_type": "markdown",
   "metadata": {},
   "source": [
    "#### Summarise"
   ]
  },
  {
   "cell_type": "code",
   "execution_count": 15,
   "metadata": {},
   "outputs": [
    {
     "name": "stdout",
     "output_type": "stream",
     "text": [
      "Scenario risks: \n",
      "\n",
      "prediction_matches_reality: 1.0\n",
      "less_spend_than_expected: 3.0\n",
      "much_less_spend_than_expected: 9.0\n",
      "more_spend_than_expected: 1.25\n",
      "much_more_spend_than_expected: 1.05\n"
     ]
    }
   ],
   "source": [
    "print('Scenario risks: \\n')\n",
    "for key, value in scenario_risk.items(): print(f'{key}: {value}')"
   ]
  },
  {
   "cell_type": "markdown",
   "metadata": {},
   "source": [
    "# Normalise risks\n",
    "\n",
    "We will want to apply these weights to help with back-propagation and forcing the model to place more importance under certain scenarios. We want to avoid having weights greater than 1 as it can distort the learning process and apply weight changes which are too aggressive. As such, divide each weight by the maximum weight to have a normalised version between 0 and 1."
   ]
  },
  {
   "cell_type": "code",
   "execution_count": 16,
   "metadata": {},
   "outputs": [
    {
     "name": "stdout",
     "output_type": "stream",
     "text": [
      "New scenario weights: \n",
      "\n",
      "prediction_matches_reality: 0.1111111111111111\n",
      "less_spend_than_expected: 0.3333333333333333\n",
      "much_less_spend_than_expected: 1.0\n",
      "more_spend_than_expected: 0.1388888888888889\n",
      "much_more_spend_than_expected: 0.11666666666666667\n"
     ]
    }
   ],
   "source": [
    "scenario_risk_normalised = {}\n",
    "worst_case_scenario_risk = np.array(list(scenario_risk.values())).max()\n",
    "\n",
    "for key, value in scenario_risk.items():\n",
    "    scenario_risk_normalised[key] = value / worst_case_scenario_risk\n",
    "    \n",
    "print('New scenario weights: \\n')\n",
    "for key, value in scenario_risk_normalised.items(): print(f'{key}: {value}')"
   ]
  },
  {
   "cell_type": "markdown",
   "metadata": {},
   "source": [
    "# Define custom loss function"
   ]
  },
  {
   "cell_type": "markdown",
   "metadata": {},
   "source": [
    "#### Ensure scenario risks outlined above can be used by Tensorflow"
   ]
  },
  {
   "cell_type": "code",
   "execution_count": 17,
   "metadata": {},
   "outputs": [],
   "source": [
    "def _convert_scenario_risk_to_tensor(scenario: str) -> tf.Tensor:\n",
    "    \"\"\"\n",
    "    Look up how risky the scenario is when comparing the model prediction to reality, and return a weight score\n",
    "    indicating how much emphasis the model should place on learning from that particular observation.\n",
    "\n",
    "    Parameters\n",
    "    ----------\n",
    "    scenario : str\n",
    "        Key of dictionary which shows the risk attached to each scenario. Should be one of...\n",
    "            'prediction_matches_reality'\n",
    "            'less_spend_than_expected'\n",
    "            'much_less_spend_than_expected'\n",
    "            'more_spend_than_expected'\n",
    "            'much_more_spend_than_expected'\n",
    "\n",
    "    Returns\n",
    "    -------\n",
    "    tf.Tensor\n",
    "        Weight which signifies how bad the scenario is for the business, and thus how to update the loss which the\n",
    "        model is trying to improve.\n",
    "    \"\"\"\n",
    "\n",
    "    return tf.cast(x=tf.constant(scenario_risk_normalised[scenario]), dtype=tf.float32)"
   ]
  },
  {
   "cell_type": "markdown",
   "metadata": {},
   "source": [
    "#### Ensure the predicted class is compared to the actual class, and the appropriate risk/weight is retrieved"
   ]
  },
  {
   "cell_type": "code",
   "execution_count": 18,
   "metadata": {},
   "outputs": [],
   "source": [
    "def _get_loss_adjustment_for_scenario(actual_vs_predicted_class: Tuple[tf.Tensor, tf.Tensor]) -> tf.Tensor:\n",
    "    \"\"\"\n",
    "    Return a weight according to how damaging the scenario is to the business.\n",
    "\n",
    "    Parameters\n",
    "    ----------\n",
    "    actual_vs_predicted_class : Tuple[tf.Tensor, tf.Tensor]\n",
    "       The actual class, actual_vs_predicted_class[0], and the predicted class, actual_vs_predicted_class[1], for an\n",
    "       observation.\n",
    "\n",
    "    Returns\n",
    "    -------\n",
    "    float\n",
    "        Weight which signifies how bad the scenario is for the business, and thus how to upweight the loss\n",
    "        which the model should be trying to improve.\n",
    "    \"\"\"\n",
    "\n",
    "    actual_class = actual_vs_predicted_class[0]\n",
    "    predicted_class = actual_vs_predicted_class[1]\n",
    "\n",
    "    # Retrieve the appropriate weighting based on how the prediction compares with reality\n",
    "    # The labels are:\n",
    "    # 0: Trade Down, 1: Stable, 2: Trade Up\n",
    "    return tf.case(\n",
    "        [\n",
    "            (tf.equal(actual_class, predicted_class),\n",
    "             lambda: _convert_scenario_risk_to_tensor('prediction_matches_reality')),\n",
    "\n",
    "            (tf.logical_and(tf.equal(actual_class, 0), tf.equal(predicted_class, 1)),\n",
    "             lambda: _convert_scenario_risk_to_tensor('less_spend_than_expected')),\n",
    "\n",
    "            (tf.logical_and(tf.equal(actual_class, 1), tf.equal(predicted_class, 2)),\n",
    "             lambda: _convert_scenario_risk_to_tensor('less_spend_than_expected')),\n",
    "\n",
    "            (tf.logical_and(tf.equal(actual_class, 0), tf.equal(predicted_class, 2)),\n",
    "             lambda: _convert_scenario_risk_to_tensor('much_less_spend_than_expected')),\n",
    "\n",
    "            (tf.logical_and(tf.equal(actual_class, 1), tf.equal(predicted_class, 0)),\n",
    "             lambda: _convert_scenario_risk_to_tensor('more_spend_than_expected')),\n",
    "\n",
    "            (tf.logical_and(tf.equal(actual_class, 2), tf.equal(predicted_class, 1)),\n",
    "             lambda: _convert_scenario_risk_to_tensor('more_spend_than_expected')),\n",
    "\n",
    "            (tf.logical_and(tf.equal(actual_class, 2), tf.equal(predicted_class, 0)),\n",
    "             lambda: _convert_scenario_risk_to_tensor('much_more_spend_than_expected')),\n",
    "        ]\n",
    "    )"
   ]
  },
  {
   "cell_type": "markdown",
   "metadata": {},
   "source": [
    "#### Place within a custom loss function, which has to be defined to receive two inputs; the true class and the predicted class"
   ]
  },
  {
   "cell_type": "code",
   "execution_count": 19,
   "metadata": {},
   "outputs": [],
   "source": [
    "def custom_cross_entropy(y_actual: tf.Tensor, y_prediction: tf.Tensor) -> tf.Tensor:\n",
    "    \"\"\"\n",
    "    Calculate cross entropy loss, but weighted according to how risky the scenario is.\n",
    "\n",
    "    Parameters\n",
    "    ----------\n",
    "    y_actual : tf.Tensor\n",
    "        One-hot encoded representation of the true class for each observation.\n",
    "    y_prediction : tf.Tensor\n",
    "        The predicted probability that the observation belongs to each class.\n",
    "        \n",
    "    Returns\n",
    "    -------\n",
    "    tf.Tensor\n",
    "        Weighted version of cross-entropy loss depending on how the prediction compares to reality.\n",
    "    \"\"\"\n",
    "\n",
    "    standard_cross_entropy = losses.categorical_crossentropy(y_true=y_actual, y_pred=y_prediction)\n",
    "\n",
    "    # The label is one hot encoded, so identify the true class by which element contains the maximum value (1)\n",
    "    actual_class = tf.math.argmax(input=y_actual, axis=1)\n",
    "    actual_class = tf.cast(x=actual_class, dtype=tf.float32)\n",
    "\n",
    "    # The prediction is a distribution of probabilities per class,\n",
    "    # so identify the predicted class by which element contains the maximum probability\n",
    "    predicted_class = tf.math.argmax(input=y_prediction, axis=1)\n",
    "    predicted_class = tf.cast(x=predicted_class, dtype=tf.float32)\n",
    "\n",
    "    actual_vs_predicted_class = tf.stack(values=[actual_class, predicted_class], axis=1)\n",
    "\n",
    "    # Calculate the weighting that should be applied to each observation in the data\n",
    "    weighting = tf.map_fn(fn=_get_loss_adjustment_for_scenario, elems=actual_vs_predicted_class)\n",
    "\n",
    "    # Updated the cross entropy loss based on the weighting\n",
    "    return tf.math.multiply(standard_cross_entropy, weighting)"
   ]
  },
  {
   "cell_type": "markdown",
   "metadata": {},
   "source": [
    "# Assemble model with/without custom loss function"
   ]
  },
  {
   "cell_type": "code",
   "execution_count": 20,
   "metadata": {},
   "outputs": [],
   "source": [
    "# Suppress tensorflow warnings\n",
    "os.environ['TF_CPP_MIN_LOG_LEVEL'] = '2'"
   ]
  },
  {
   "cell_type": "code",
   "execution_count": 21,
   "metadata": {},
   "outputs": [],
   "source": [
    "num_features = X_train.shape[1]"
   ]
  },
  {
   "cell_type": "markdown",
   "metadata": {},
   "source": [
    "#### Standard model"
   ]
  },
  {
   "cell_type": "code",
   "execution_count": 22,
   "metadata": {},
   "outputs": [
    {
     "name": "stdout",
     "output_type": "stream",
     "text": [
      "Model: \"sequential\"\n",
      "_________________________________________________________________\n",
      "Layer (type)                 Output Shape              Param #   \n",
      "=================================================================\n",
      "dense (Dense)                (None, 64)                192       \n",
      "_________________________________________________________________\n",
      "dense_1 (Dense)              (None, 32)                2080      \n",
      "_________________________________________________________________\n",
      "dense_2 (Dense)              (None, 3)                 99        \n",
      "=================================================================\n",
      "Total params: 2,371\n",
      "Trainable params: 2,371\n",
      "Non-trainable params: 0\n",
      "_________________________________________________________________\n"
     ]
    }
   ],
   "source": [
    "loss = 'categorical_crossentropy'\n",
    "\n",
    "standard_model = Sequential()\n",
    "\n",
    "standard_model.add(Input(shape=(num_features, )))\n",
    "standard_model.add(Dense(64, activation='relu'))\n",
    "standard_model.add(Dense(32, activation='relu'))\n",
    "standard_model.add(Dense(len(label_encoder.classes_), activation='softmax'))\n",
    "\n",
    "standard_model.summary()\n",
    "\n",
    "standard_model.compile(\n",
    "    optimizer='adam', \n",
    "    loss=loss,\n",
    "    metrics=['categorical_accuracy', 'categorical_crossentropy']\n",
    ")"
   ]
  },
  {
   "cell_type": "markdown",
   "metadata": {},
   "source": [
    "#### Model with custom loss function"
   ]
  },
  {
   "cell_type": "code",
   "execution_count": 23,
   "metadata": {},
   "outputs": [
    {
     "name": "stdout",
     "output_type": "stream",
     "text": [
      "Model: \"sequential_1\"\n",
      "_________________________________________________________________\n",
      "Layer (type)                 Output Shape              Param #   \n",
      "=================================================================\n",
      "dense_3 (Dense)              (None, 64)                192       \n",
      "_________________________________________________________________\n",
      "dense_4 (Dense)              (None, 32)                2080      \n",
      "_________________________________________________________________\n",
      "dense_5 (Dense)              (None, 3)                 99        \n",
      "=================================================================\n",
      "Total params: 2,371\n",
      "Trainable params: 2,371\n",
      "Non-trainable params: 0\n",
      "_________________________________________________________________\n"
     ]
    }
   ],
   "source": [
    "loss = custom_cross_entropy\n",
    "\n",
    "custom_model = Sequential()\n",
    "\n",
    "custom_model.add(Input(shape=(num_features, )))\n",
    "custom_model.add(Dense(64, activation='relu'))\n",
    "custom_model.add(Dense(32, activation='relu'))\n",
    "custom_model.add(Dense(len(label_encoder.classes_), activation='softmax'))\n",
    "\n",
    "custom_model.summary()\n",
    "\n",
    "custom_model.compile(\n",
    "    optimizer='adam', \n",
    "    loss=loss,\n",
    "    metrics=['categorical_accuracy', 'categorical_crossentropy']\n",
    ")"
   ]
  },
  {
   "cell_type": "markdown",
   "metadata": {},
   "source": [
    "# Train models"
   ]
  },
  {
   "cell_type": "code",
   "execution_count": 24,
   "metadata": {},
   "outputs": [],
   "source": [
    "epochs = 20\n",
    "verbosity = 0"
   ]
  },
  {
   "cell_type": "markdown",
   "metadata": {},
   "source": [
    "#### Standard model"
   ]
  },
  {
   "cell_type": "code",
   "execution_count": 25,
   "metadata": {
    "scrolled": true
   },
   "outputs": [
    {
     "data": {
      "text/plain": [
       "<tensorflow.python.keras.callbacks.History at 0x144ccf700>"
      ]
     },
     "execution_count": 25,
     "metadata": {},
     "output_type": "execute_result"
    }
   ],
   "source": [
    "standard_model.fit(\n",
    "    x=X_train, \n",
    "    y=y_train_encoded, \n",
    "    epochs=epochs, \n",
    "    verbose=verbosity,\n",
    "    validation_data=(X_validation, y_validation_encoded),\n",
    "    batch_size=2048\n",
    ")"
   ]
  },
  {
   "cell_type": "markdown",
   "metadata": {},
   "source": [
    "#### Custom model"
   ]
  },
  {
   "cell_type": "code",
   "execution_count": 26,
   "metadata": {},
   "outputs": [
    {
     "data": {
      "text/plain": [
       "<tensorflow.python.keras.callbacks.History at 0x14543d790>"
      ]
     },
     "execution_count": 26,
     "metadata": {},
     "output_type": "execute_result"
    }
   ],
   "source": [
    "custom_model.fit(\n",
    "    x=X_train, \n",
    "    y=y_train_encoded, \n",
    "    epochs=epochs, \n",
    "    verbose=verbosity,\n",
    "    validation_data=(X_validation, y_validation_encoded),\n",
    "    batch_size=128\n",
    ")"
   ]
  },
  {
   "cell_type": "markdown",
   "metadata": {},
   "source": [
    "# Apply model to validation data"
   ]
  },
  {
   "cell_type": "markdown",
   "metadata": {},
   "source": [
    "#### Make predictions"
   ]
  },
  {
   "cell_type": "code",
   "execution_count": 27,
   "metadata": {},
   "outputs": [],
   "source": [
    "validation_standard_predictions = standard_model.predict(X_validation, batch_size=2048)\n",
    "validation_custom_predictions = custom_model.predict(X_validation, batch_size=2048)"
   ]
  },
  {
   "cell_type": "markdown",
   "metadata": {},
   "source": [
    "#### The output is a probability for each class, so identify which class had the maximum probability"
   ]
  },
  {
   "cell_type": "code",
   "execution_count": 28,
   "metadata": {},
   "outputs": [],
   "source": [
    "validation_standard_predictions_class = np.argmax(validation_standard_predictions, axis=1)\n",
    "validation_custom_predictions_class = np.argmax(validation_custom_predictions, axis=1)"
   ]
  },
  {
   "cell_type": "markdown",
   "metadata": {},
   "source": [
    "#### Convert back from an integer to the original class label"
   ]
  },
  {
   "cell_type": "code",
   "execution_count": 29,
   "metadata": {},
   "outputs": [],
   "source": [
    "validation_standard_predictions_class = label_encoder.inverse_transform(validation_standard_predictions_class)\n",
    "validation_custom_predictions_class = label_encoder.inverse_transform(validation_custom_predictions_class)"
   ]
  },
  {
   "cell_type": "markdown",
   "metadata": {},
   "source": [
    "#### Extract the true classes"
   ]
  },
  {
   "cell_type": "code",
   "execution_count": 30,
   "metadata": {},
   "outputs": [],
   "source": [
    "validation_true_class = label_encoder.inverse_transform(y_validation)"
   ]
  },
  {
   "cell_type": "markdown",
   "metadata": {},
   "source": [
    "# Display the influence of the custom loss function"
   ]
  },
  {
   "cell_type": "markdown",
   "metadata": {},
   "source": [
    "#### Count the class predictions on the validation data"
   ]
  },
  {
   "cell_type": "code",
   "execution_count": 31,
   "metadata": {},
   "outputs": [
    {
     "data": {
      "text/html": [
       "<div>\n",
       "<style scoped>\n",
       "    .dataframe tbody tr th:only-of-type {\n",
       "        vertical-align: middle;\n",
       "    }\n",
       "\n",
       "    .dataframe tbody tr th {\n",
       "        vertical-align: top;\n",
       "    }\n",
       "\n",
       "    .dataframe thead th {\n",
       "        text-align: right;\n",
       "    }\n",
       "</style>\n",
       "<table border=\"1\" class=\"dataframe\">\n",
       "  <thead>\n",
       "    <tr style=\"text-align: right;\">\n",
       "      <th></th>\n",
       "      <th>Model</th>\n",
       "      <th>Class</th>\n",
       "      <th>Count</th>\n",
       "    </tr>\n",
       "  </thead>\n",
       "  <tbody>\n",
       "    <tr>\n",
       "      <th>0</th>\n",
       "      <td>Standard</td>\n",
       "      <td>Down</td>\n",
       "      <td>2089</td>\n",
       "    </tr>\n",
       "    <tr>\n",
       "      <th>1</th>\n",
       "      <td>Standard</td>\n",
       "      <td>Stable</td>\n",
       "      <td>946</td>\n",
       "    </tr>\n",
       "    <tr>\n",
       "      <th>2</th>\n",
       "      <td>Standard</td>\n",
       "      <td>Up</td>\n",
       "      <td>2965</td>\n",
       "    </tr>\n",
       "    <tr>\n",
       "      <th>0</th>\n",
       "      <td>Custom</td>\n",
       "      <td>Down</td>\n",
       "      <td>4633</td>\n",
       "    </tr>\n",
       "    <tr>\n",
       "      <th>1</th>\n",
       "      <td>Custom</td>\n",
       "      <td>Stable</td>\n",
       "      <td>852</td>\n",
       "    </tr>\n",
       "    <tr>\n",
       "      <th>2</th>\n",
       "      <td>Custom</td>\n",
       "      <td>Up</td>\n",
       "      <td>515</td>\n",
       "    </tr>\n",
       "  </tbody>\n",
       "</table>\n",
       "</div>"
      ],
      "text/plain": [
       "      Model   Class  Count\n",
       "0  Standard    Down   2089\n",
       "1  Standard  Stable    946\n",
       "2  Standard      Up   2965\n",
       "0    Custom    Down   4633\n",
       "1    Custom  Stable    852\n",
       "2    Custom      Up    515"
      ]
     },
     "execution_count": 31,
     "metadata": {},
     "output_type": "execute_result"
    }
   ],
   "source": [
    "standard_predicted_class_count = np.unique(ar=validation_standard_predictions_class, return_counts=True)\n",
    "\n",
    "standard_predicted_class_count = pd.DataFrame({\n",
    "    'Model': ['Standard'] * 3, \n",
    "    'Class': standard_predicted_class_count[0], \n",
    "    'Count': standard_predicted_class_count[1]\n",
    "})\n",
    "\n",
    "\n",
    "custom_predicted_class_count = np.unique(ar=validation_custom_predictions_class, return_counts=True)\n",
    "\n",
    "custom_predicted_class_count = pd.DataFrame({\n",
    "    'Model': ['Custom'] * 3, \n",
    "    'Class': custom_predicted_class_count[0], \n",
    "    'Count': custom_predicted_class_count[1]\n",
    "})\n",
    "\n",
    "predicted_class_count = pd.concat([standard_predicted_class_count, custom_predicted_class_count])\n",
    "\n",
    "predicted_class_count.head(6)"
   ]
  },
  {
   "cell_type": "markdown",
   "metadata": {},
   "source": [
    "#### The custom model has clearly focused its learning to avoid situations where the model overestimates a customer's future spend"
   ]
  },
  {
   "cell_type": "code",
   "execution_count": 32,
   "metadata": {},
   "outputs": [],
   "source": [
    "plt.rcParams['figure.figsize'] = [20, 10]\n",
    "plt.rcParams['font.size'] = 20"
   ]
  },
  {
   "cell_type": "code",
   "execution_count": 33,
   "metadata": {},
   "outputs": [
    {
     "data": {
      "image/png": "[encoded data removed]",
      "text/plain": [
       "<Figure size 1440x720 with 1 Axes>"
      ]
     },
     "metadata": {
      "needs_background": "light"
     },
     "output_type": "display_data"
    }
   ],
   "source": [
    "ax = sns.barplot(\n",
    "    x='Class',\n",
    "    y='Count',\n",
    "    hue='Model',\n",
    "    data=predicted_class_count\n",
    ")\n",
    "\n",
    "ax.set_title(label='Predicted Class by Model Type', pad=20, fontsize=30)\n",
    "ax.set_xlabel(xlabel='Predicted Class', labelpad=20, fontsize=24)\n",
    "ax.set_ylabel(ylabel='Number of Observations', labelpad=20, fontsize=24);"
   ]
  },
  {
   "cell_type": "code",
   "execution_count": null,
   "metadata": {},
   "outputs": [],
   "source": []
  }
 ],
 "metadata": {
  "kernelspec": {
   "display_name": "Python 3",
   "language": "python",
   "name": "python3"
  },
  "language_info": {
   "codemirror_mode": {
    "name": "ipython",
    "version": 3
   },
   "file_extension": ".py",
   "mimetype": "text/x-python",
   "name": "python",
   "nbconvert_exporter": "python",
   "pygments_lexer": "ipython3",
   "version": "3.8.4"
  }
 },
 "nbformat": 4,
 "nbformat_minor": 4
}
